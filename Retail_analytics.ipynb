{
 "cells": [
  {
   "cell_type": "markdown",
   "id": "6ee1058f",
   "metadata": {},
   "source": [
    "# RETAIL ANALYTICS"
   ]
  },
  {
   "cell_type": "raw",
   "id": "f1322a69",
   "metadata": {},
   "source": [
    "Buisness Problem :\n",
    "\n",
    "The Management team at a multinational retail corporation wants to analyze the customer purchase behavior (specifically, purchase amount) against the customer’s gender and the various other factors to help the business make better decisions. \n",
    "\n",
    "They want to understand if the spending habits differ between male and female customers: Do women spend more on Black Friday than men? (Assume 50 million customers are male and 50 million are female)."
   ]
  },
  {
   "cell_type": "markdown",
   "id": "a9a32ed5",
   "metadata": {},
   "source": [
    "#### Importing Libraries"
   ]
  },
  {
   "cell_type": "code",
   "execution_count": 1,
   "id": "b49aa259",
   "metadata": {},
   "outputs": [],
   "source": [
    "import pandas as pd\n",
    "import numpy as np\n",
    "import matplotlib.pyplot as plt\n",
    "import seaborn as sns\n",
    "import scipy.stats as stats\n",
    "from scipy.stats import ttest_ind , f_oneway"
   ]
  },
  {
   "cell_type": "markdown",
   "id": "32fce673",
   "metadata": {},
   "source": [
    "#### Importing dataset"
   ]
  },
  {
   "cell_type": "code",
   "execution_count": 2,
   "id": "75efa44f",
   "metadata": {},
   "outputs": [],
   "source": [
    "retail_df = pd.read_csv(\"C:/Users/Ashish/Desktop/DSML/SCALER/scaler_ project/project 3_clt and_ci_Walmart/walmart.csv\")"
   ]
  },
  {
   "cell_type": "code",
   "execution_count": 3,
   "id": "dd35a070",
   "metadata": {},
   "outputs": [
    {
     "data": {
      "text/html": [
       "<div>\n",
       "<style scoped>\n",
       "    .dataframe tbody tr th:only-of-type {\n",
       "        vertical-align: middle;\n",
       "    }\n",
       "\n",
       "    .dataframe tbody tr th {\n",
       "        vertical-align: top;\n",
       "    }\n",
       "\n",
       "    .dataframe thead th {\n",
       "        text-align: right;\n",
       "    }\n",
       "</style>\n",
       "<table border=\"1\" class=\"dataframe\">\n",
       "  <thead>\n",
       "    <tr style=\"text-align: right;\">\n",
       "      <th></th>\n",
       "      <th>User_ID</th>\n",
       "      <th>Product_ID</th>\n",
       "      <th>Gender</th>\n",
       "      <th>Age</th>\n",
       "      <th>Occupation</th>\n",
       "      <th>City_Category</th>\n",
       "      <th>Stay_In_Current_City_Years</th>\n",
       "      <th>Marital_Status</th>\n",
       "      <th>Product_Category</th>\n",
       "      <th>Purchase</th>\n",
       "    </tr>\n",
       "  </thead>\n",
       "  <tbody>\n",
       "    <tr>\n",
       "      <th>0</th>\n",
       "      <td>1000001</td>\n",
       "      <td>P00069042</td>\n",
       "      <td>F</td>\n",
       "      <td>0-17</td>\n",
       "      <td>10</td>\n",
       "      <td>A</td>\n",
       "      <td>2</td>\n",
       "      <td>0</td>\n",
       "      <td>3</td>\n",
       "      <td>8370</td>\n",
       "    </tr>\n",
       "    <tr>\n",
       "      <th>1</th>\n",
       "      <td>1000001</td>\n",
       "      <td>P00248942</td>\n",
       "      <td>F</td>\n",
       "      <td>0-17</td>\n",
       "      <td>10</td>\n",
       "      <td>A</td>\n",
       "      <td>2</td>\n",
       "      <td>0</td>\n",
       "      <td>1</td>\n",
       "      <td>15200</td>\n",
       "    </tr>\n",
       "    <tr>\n",
       "      <th>2</th>\n",
       "      <td>1000001</td>\n",
       "      <td>P00087842</td>\n",
       "      <td>F</td>\n",
       "      <td>0-17</td>\n",
       "      <td>10</td>\n",
       "      <td>A</td>\n",
       "      <td>2</td>\n",
       "      <td>0</td>\n",
       "      <td>12</td>\n",
       "      <td>1422</td>\n",
       "    </tr>\n",
       "    <tr>\n",
       "      <th>3</th>\n",
       "      <td>1000001</td>\n",
       "      <td>P00085442</td>\n",
       "      <td>F</td>\n",
       "      <td>0-17</td>\n",
       "      <td>10</td>\n",
       "      <td>A</td>\n",
       "      <td>2</td>\n",
       "      <td>0</td>\n",
       "      <td>12</td>\n",
       "      <td>1057</td>\n",
       "    </tr>\n",
       "    <tr>\n",
       "      <th>4</th>\n",
       "      <td>1000002</td>\n",
       "      <td>P00285442</td>\n",
       "      <td>M</td>\n",
       "      <td>55+</td>\n",
       "      <td>16</td>\n",
       "      <td>C</td>\n",
       "      <td>4+</td>\n",
       "      <td>0</td>\n",
       "      <td>8</td>\n",
       "      <td>7969</td>\n",
       "    </tr>\n",
       "    <tr>\n",
       "      <th>5</th>\n",
       "      <td>1000003</td>\n",
       "      <td>P00193542</td>\n",
       "      <td>M</td>\n",
       "      <td>26-35</td>\n",
       "      <td>15</td>\n",
       "      <td>A</td>\n",
       "      <td>3</td>\n",
       "      <td>0</td>\n",
       "      <td>1</td>\n",
       "      <td>15227</td>\n",
       "    </tr>\n",
       "    <tr>\n",
       "      <th>6</th>\n",
       "      <td>1000004</td>\n",
       "      <td>P00184942</td>\n",
       "      <td>M</td>\n",
       "      <td>46-50</td>\n",
       "      <td>7</td>\n",
       "      <td>B</td>\n",
       "      <td>2</td>\n",
       "      <td>1</td>\n",
       "      <td>1</td>\n",
       "      <td>19215</td>\n",
       "    </tr>\n",
       "    <tr>\n",
       "      <th>7</th>\n",
       "      <td>1000004</td>\n",
       "      <td>P00346142</td>\n",
       "      <td>M</td>\n",
       "      <td>46-50</td>\n",
       "      <td>7</td>\n",
       "      <td>B</td>\n",
       "      <td>2</td>\n",
       "      <td>1</td>\n",
       "      <td>1</td>\n",
       "      <td>15854</td>\n",
       "    </tr>\n",
       "    <tr>\n",
       "      <th>8</th>\n",
       "      <td>1000004</td>\n",
       "      <td>P0097242</td>\n",
       "      <td>M</td>\n",
       "      <td>46-50</td>\n",
       "      <td>7</td>\n",
       "      <td>B</td>\n",
       "      <td>2</td>\n",
       "      <td>1</td>\n",
       "      <td>1</td>\n",
       "      <td>15686</td>\n",
       "    </tr>\n",
       "    <tr>\n",
       "      <th>9</th>\n",
       "      <td>1000005</td>\n",
       "      <td>P00274942</td>\n",
       "      <td>M</td>\n",
       "      <td>26-35</td>\n",
       "      <td>20</td>\n",
       "      <td>A</td>\n",
       "      <td>1</td>\n",
       "      <td>1</td>\n",
       "      <td>8</td>\n",
       "      <td>7871</td>\n",
       "    </tr>\n",
       "    <tr>\n",
       "      <th>10</th>\n",
       "      <td>1000005</td>\n",
       "      <td>P00251242</td>\n",
       "      <td>M</td>\n",
       "      <td>26-35</td>\n",
       "      <td>20</td>\n",
       "      <td>A</td>\n",
       "      <td>1</td>\n",
       "      <td>1</td>\n",
       "      <td>5</td>\n",
       "      <td>5254</td>\n",
       "    </tr>\n",
       "    <tr>\n",
       "      <th>11</th>\n",
       "      <td>1000005</td>\n",
       "      <td>P00014542</td>\n",
       "      <td>M</td>\n",
       "      <td>26-35</td>\n",
       "      <td>20</td>\n",
       "      <td>A</td>\n",
       "      <td>1</td>\n",
       "      <td>1</td>\n",
       "      <td>8</td>\n",
       "      <td>3957</td>\n",
       "    </tr>\n",
       "    <tr>\n",
       "      <th>12</th>\n",
       "      <td>1000005</td>\n",
       "      <td>P00031342</td>\n",
       "      <td>M</td>\n",
       "      <td>26-35</td>\n",
       "      <td>20</td>\n",
       "      <td>A</td>\n",
       "      <td>1</td>\n",
       "      <td>1</td>\n",
       "      <td>8</td>\n",
       "      <td>6073</td>\n",
       "    </tr>\n",
       "    <tr>\n",
       "      <th>13</th>\n",
       "      <td>1000005</td>\n",
       "      <td>P00145042</td>\n",
       "      <td>M</td>\n",
       "      <td>26-35</td>\n",
       "      <td>20</td>\n",
       "      <td>A</td>\n",
       "      <td>1</td>\n",
       "      <td>1</td>\n",
       "      <td>1</td>\n",
       "      <td>15665</td>\n",
       "    </tr>\n",
       "    <tr>\n",
       "      <th>14</th>\n",
       "      <td>1000006</td>\n",
       "      <td>P00231342</td>\n",
       "      <td>F</td>\n",
       "      <td>51-55</td>\n",
       "      <td>9</td>\n",
       "      <td>A</td>\n",
       "      <td>1</td>\n",
       "      <td>0</td>\n",
       "      <td>5</td>\n",
       "      <td>5378</td>\n",
       "    </tr>\n",
       "  </tbody>\n",
       "</table>\n",
       "</div>"
      ],
      "text/plain": [
       "    User_ID Product_ID Gender    Age  Occupation City_Category  \\\n",
       "0   1000001  P00069042      F   0-17          10             A   \n",
       "1   1000001  P00248942      F   0-17          10             A   \n",
       "2   1000001  P00087842      F   0-17          10             A   \n",
       "3   1000001  P00085442      F   0-17          10             A   \n",
       "4   1000002  P00285442      M    55+          16             C   \n",
       "5   1000003  P00193542      M  26-35          15             A   \n",
       "6   1000004  P00184942      M  46-50           7             B   \n",
       "7   1000004  P00346142      M  46-50           7             B   \n",
       "8   1000004   P0097242      M  46-50           7             B   \n",
       "9   1000005  P00274942      M  26-35          20             A   \n",
       "10  1000005  P00251242      M  26-35          20             A   \n",
       "11  1000005  P00014542      M  26-35          20             A   \n",
       "12  1000005  P00031342      M  26-35          20             A   \n",
       "13  1000005  P00145042      M  26-35          20             A   \n",
       "14  1000006  P00231342      F  51-55           9             A   \n",
       "\n",
       "   Stay_In_Current_City_Years  Marital_Status  Product_Category  Purchase  \n",
       "0                           2               0                 3      8370  \n",
       "1                           2               0                 1     15200  \n",
       "2                           2               0                12      1422  \n",
       "3                           2               0                12      1057  \n",
       "4                          4+               0                 8      7969  \n",
       "5                           3               0                 1     15227  \n",
       "6                           2               1                 1     19215  \n",
       "7                           2               1                 1     15854  \n",
       "8                           2               1                 1     15686  \n",
       "9                           1               1                 8      7871  \n",
       "10                          1               1                 5      5254  \n",
       "11                          1               1                 8      3957  \n",
       "12                          1               1                 8      6073  \n",
       "13                          1               1                 1     15665  \n",
       "14                          1               0                 5      5378  "
      ]
     },
     "execution_count": 3,
     "metadata": {},
     "output_type": "execute_result"
    }
   ],
   "source": [
    "#checking out the dataset\n",
    "retail_df.head(15)"
   ]
  },
  {
   "cell_type": "code",
   "execution_count": 4,
   "id": "88a3abf2",
   "metadata": {},
   "outputs": [
    {
     "data": {
      "text/html": [
       "<div>\n",
       "<style scoped>\n",
       "    .dataframe tbody tr th:only-of-type {\n",
       "        vertical-align: middle;\n",
       "    }\n",
       "\n",
       "    .dataframe tbody tr th {\n",
       "        vertical-align: top;\n",
       "    }\n",
       "\n",
       "    .dataframe thead th {\n",
       "        text-align: right;\n",
       "    }\n",
       "</style>\n",
       "<table border=\"1\" class=\"dataframe\">\n",
       "  <thead>\n",
       "    <tr style=\"text-align: right;\">\n",
       "      <th></th>\n",
       "      <th>User_ID</th>\n",
       "      <th>Product_ID</th>\n",
       "      <th>Gender</th>\n",
       "      <th>Age</th>\n",
       "      <th>Occupation</th>\n",
       "      <th>City_Category</th>\n",
       "      <th>Stay_In_Current_City_Years</th>\n",
       "      <th>Marital_Status</th>\n",
       "      <th>Product_Category</th>\n",
       "      <th>Purchase</th>\n",
       "    </tr>\n",
       "  </thead>\n",
       "  <tbody>\n",
       "    <tr>\n",
       "      <th>0</th>\n",
       "      <td>1000001</td>\n",
       "      <td>P00069042</td>\n",
       "      <td>Female</td>\n",
       "      <td>0-17</td>\n",
       "      <td>10</td>\n",
       "      <td>A</td>\n",
       "      <td>2</td>\n",
       "      <td>Not_married</td>\n",
       "      <td>3</td>\n",
       "      <td>8370</td>\n",
       "    </tr>\n",
       "    <tr>\n",
       "      <th>1</th>\n",
       "      <td>1000001</td>\n",
       "      <td>P00248942</td>\n",
       "      <td>Female</td>\n",
       "      <td>0-17</td>\n",
       "      <td>10</td>\n",
       "      <td>A</td>\n",
       "      <td>2</td>\n",
       "      <td>Not_married</td>\n",
       "      <td>1</td>\n",
       "      <td>15200</td>\n",
       "    </tr>\n",
       "    <tr>\n",
       "      <th>2</th>\n",
       "      <td>1000001</td>\n",
       "      <td>P00087842</td>\n",
       "      <td>Female</td>\n",
       "      <td>0-17</td>\n",
       "      <td>10</td>\n",
       "      <td>A</td>\n",
       "      <td>2</td>\n",
       "      <td>Not_married</td>\n",
       "      <td>12</td>\n",
       "      <td>1422</td>\n",
       "    </tr>\n",
       "    <tr>\n",
       "      <th>3</th>\n",
       "      <td>1000001</td>\n",
       "      <td>P00085442</td>\n",
       "      <td>Female</td>\n",
       "      <td>0-17</td>\n",
       "      <td>10</td>\n",
       "      <td>A</td>\n",
       "      <td>2</td>\n",
       "      <td>Not_married</td>\n",
       "      <td>12</td>\n",
       "      <td>1057</td>\n",
       "    </tr>\n",
       "    <tr>\n",
       "      <th>4</th>\n",
       "      <td>1000002</td>\n",
       "      <td>P00285442</td>\n",
       "      <td>Male</td>\n",
       "      <td>55+</td>\n",
       "      <td>16</td>\n",
       "      <td>C</td>\n",
       "      <td>4+</td>\n",
       "      <td>Not_married</td>\n",
       "      <td>8</td>\n",
       "      <td>7969</td>\n",
       "    </tr>\n",
       "    <tr>\n",
       "      <th>...</th>\n",
       "      <td>...</td>\n",
       "      <td>...</td>\n",
       "      <td>...</td>\n",
       "      <td>...</td>\n",
       "      <td>...</td>\n",
       "      <td>...</td>\n",
       "      <td>...</td>\n",
       "      <td>...</td>\n",
       "      <td>...</td>\n",
       "      <td>...</td>\n",
       "    </tr>\n",
       "    <tr>\n",
       "      <th>550063</th>\n",
       "      <td>1006033</td>\n",
       "      <td>P00372445</td>\n",
       "      <td>Male</td>\n",
       "      <td>51-55</td>\n",
       "      <td>13</td>\n",
       "      <td>B</td>\n",
       "      <td>1</td>\n",
       "      <td>Maried</td>\n",
       "      <td>20</td>\n",
       "      <td>368</td>\n",
       "    </tr>\n",
       "    <tr>\n",
       "      <th>550064</th>\n",
       "      <td>1006035</td>\n",
       "      <td>P00375436</td>\n",
       "      <td>Female</td>\n",
       "      <td>26-35</td>\n",
       "      <td>1</td>\n",
       "      <td>C</td>\n",
       "      <td>3</td>\n",
       "      <td>Not_married</td>\n",
       "      <td>20</td>\n",
       "      <td>371</td>\n",
       "    </tr>\n",
       "    <tr>\n",
       "      <th>550065</th>\n",
       "      <td>1006036</td>\n",
       "      <td>P00375436</td>\n",
       "      <td>Female</td>\n",
       "      <td>26-35</td>\n",
       "      <td>15</td>\n",
       "      <td>B</td>\n",
       "      <td>4+</td>\n",
       "      <td>Maried</td>\n",
       "      <td>20</td>\n",
       "      <td>137</td>\n",
       "    </tr>\n",
       "    <tr>\n",
       "      <th>550066</th>\n",
       "      <td>1006038</td>\n",
       "      <td>P00375436</td>\n",
       "      <td>Female</td>\n",
       "      <td>55+</td>\n",
       "      <td>1</td>\n",
       "      <td>C</td>\n",
       "      <td>2</td>\n",
       "      <td>Not_married</td>\n",
       "      <td>20</td>\n",
       "      <td>365</td>\n",
       "    </tr>\n",
       "    <tr>\n",
       "      <th>550067</th>\n",
       "      <td>1006039</td>\n",
       "      <td>P00371644</td>\n",
       "      <td>Female</td>\n",
       "      <td>46-50</td>\n",
       "      <td>0</td>\n",
       "      <td>B</td>\n",
       "      <td>4+</td>\n",
       "      <td>Maried</td>\n",
       "      <td>20</td>\n",
       "      <td>490</td>\n",
       "    </tr>\n",
       "  </tbody>\n",
       "</table>\n",
       "<p>550068 rows × 10 columns</p>\n",
       "</div>"
      ],
      "text/plain": [
       "        User_ID Product_ID  Gender    Age  Occupation City_Category  \\\n",
       "0       1000001  P00069042  Female   0-17          10             A   \n",
       "1       1000001  P00248942  Female   0-17          10             A   \n",
       "2       1000001  P00087842  Female   0-17          10             A   \n",
       "3       1000001  P00085442  Female   0-17          10             A   \n",
       "4       1000002  P00285442    Male    55+          16             C   \n",
       "...         ...        ...     ...    ...         ...           ...   \n",
       "550063  1006033  P00372445    Male  51-55          13             B   \n",
       "550064  1006035  P00375436  Female  26-35           1             C   \n",
       "550065  1006036  P00375436  Female  26-35          15             B   \n",
       "550066  1006038  P00375436  Female    55+           1             C   \n",
       "550067  1006039  P00371644  Female  46-50           0             B   \n",
       "\n",
       "       Stay_In_Current_City_Years Marital_Status  Product_Category  Purchase  \n",
       "0                               2    Not_married                 3      8370  \n",
       "1                               2    Not_married                 1     15200  \n",
       "2                               2    Not_married                12      1422  \n",
       "3                               2    Not_married                12      1057  \n",
       "4                              4+    Not_married                 8      7969  \n",
       "...                           ...            ...               ...       ...  \n",
       "550063                          1         Maried                20       368  \n",
       "550064                          3    Not_married                20       371  \n",
       "550065                         4+         Maried                20       137  \n",
       "550066                          2    Not_married                20       365  \n",
       "550067                         4+         Maried                20       490  \n",
       "\n",
       "[550068 rows x 10 columns]"
      ]
     },
     "execution_count": 4,
     "metadata": {},
     "output_type": "execute_result"
    }
   ],
   "source": [
    "# Replace 'M' with 'Male' and 'F' with 'Female' in the 'Gender' column\n",
    "retail_df[\"Gender\"].replace({'M':\"Male\" , 'F':\"Female\"},inplace =True) \n",
    "retail_df[\"Marital_Status\"].replace({0:\"Not_married\" , 1:\"Maried\"},inplace =True) \n",
    "retail_df"
   ]
  },
  {
   "cell_type": "markdown",
   "id": "d65a8f8e",
   "metadata": {},
   "source": [
    "## Dataset basic info :"
   ]
  },
  {
   "cell_type": "raw",
   "id": "dc4a8ede",
   "metadata": {},
   "source": [
    "Dataset description:\n",
    "    \n",
    "User_ID                 :\tUser ID\n",
    "Product_ID              :\tProduct ID\n",
    "Gender                  :\tSex of User\n",
    "Age                     :\tAge in bins\n",
    "Occupation              :\tOccupation(Masked)\n",
    "City_Category           :\tCategory of the City (A,B,C)\n",
    "StayInCurrentCityYears  :\tNumber of years stay in current city\n",
    "Marital_Status          :\tMarital Status\n",
    "ProductCategory         :\tProduct Category (Masked)\n",
    "Purchase                :\tPurchase Amount\n"
   ]
  },
  {
   "cell_type": "code",
   "execution_count": 5,
   "id": "8b4eb9d1",
   "metadata": {},
   "outputs": [
    {
     "name": "stdout",
     "output_type": "stream",
     "text": [
      "<class 'pandas.core.frame.DataFrame'>\n",
      "RangeIndex: 550068 entries, 0 to 550067\n",
      "Data columns (total 10 columns):\n",
      " #   Column                      Non-Null Count   Dtype \n",
      "---  ------                      --------------   ----- \n",
      " 0   User_ID                     550068 non-null  int64 \n",
      " 1   Product_ID                  550068 non-null  object\n",
      " 2   Gender                      550068 non-null  object\n",
      " 3   Age                         550068 non-null  object\n",
      " 4   Occupation                  550068 non-null  int64 \n",
      " 5   City_Category               550068 non-null  object\n",
      " 6   Stay_In_Current_City_Years  550068 non-null  object\n",
      " 7   Marital_Status              550068 non-null  object\n",
      " 8   Product_Category            550068 non-null  int64 \n",
      " 9   Purchase                    550068 non-null  int64 \n",
      "dtypes: int64(4), object(6)\n",
      "memory usage: 42.0+ MB\n",
      "None\n"
     ]
    }
   ],
   "source": [
    "# Information about the structure and characteristics of a DataFrame. \n",
    "\n",
    "dataset_info = retail_df.info()\n",
    "print(dataset_info)"
   ]
  },
  {
   "cell_type": "markdown",
   "id": "d8e05ebb",
   "metadata": {},
   "source": [
    "## Univariate Analysis"
   ]
  },
  {
   "cell_type": "markdown",
   "id": "62622218",
   "metadata": {},
   "source": [
    "#### 1. Purchase amount"
   ]
  },
  {
   "cell_type": "code",
   "execution_count": 6,
   "id": "35f86a09",
   "metadata": {},
   "outputs": [
    {
     "name": "stdout",
     "output_type": "stream",
     "text": [
      "1. Statistics for purchase amount\n",
      "\n",
      "count    550068.0\n",
      "mean       9264.0\n",
      "std        5023.0\n",
      "min          12.0\n",
      "25%        5823.0\n",
      "50%        8047.0\n",
      "75%       12054.0\n",
      "max       23961.0\n",
      "Name: Purchase, dtype: float64\n",
      "\n",
      "2. Outliers\n"
     ]
    },
    {
     "data": {
      "image/png": "[encoded data removed]",
      "text/plain": [
       "<Figure size 288x576 with 1 Axes>"
      ]
     },
     "metadata": {
      "needs_background": "light"
     },
     "output_type": "display_data"
    }
   ],
   "source": [
    "#1. Purchase -> Numerical data\n",
    "print(\"1. Statistics for purchase amount\\n\")\n",
    "print(np.round(retail_df.describe()[\"Purchase\"],0))\n",
    "print()\n",
    "\n",
    "#2. Outliers\n",
    "\n",
    "print(\"2. Outliers\")\n",
    "plt.figure(figsize = (4,8))\n",
    "plt.yticks(np.linspace(0,25000,20))\n",
    "sns.boxplot(data = retail_df,\n",
    "           y = \"Purchase\")\n",
    "plt.show()\n"
   ]
  },
  {
   "cell_type": "code",
   "execution_count": 7,
   "id": "e4b59742",
   "metadata": {},
   "outputs": [
    {
     "name": "stdout",
     "output_type": "stream",
     "text": [
      "Total no. of outliers in purchase column will be :\n",
      "3541\n",
      "\n",
      "3. Top 3 user id that purchased the most : no the basis of freuency of purchase\n",
      "1001680    1026\n",
      "1004277     979\n",
      "1001941     898\n",
      "Name: User_ID, dtype: int64\n",
      "\n",
      "4. Top 3 user id that purchased the most : no the basis of total purchase\n",
      "User_ID\n",
      "1004277    10536909\n",
      "1001680     8699596\n",
      "1002909     7577756\n",
      "Name: Purchase, dtype: int64\n",
      "\n",
      "5. Missing values in the dataset\n",
      "0\n"
     ]
    }
   ],
   "source": [
    "print(\"Total no. of outliers in purchase column will be :\")\n",
    "print(retail_df.loc[retail_df[\"Purchase\"] > 21000][\"Purchase\"].count())\n",
    "print()\n",
    "\n",
    "# 3. Top 3 user id that purchased the most : no the basis of freuency of purchase\n",
    "\n",
    "print(\"3. Top 3 user id that purchased the most : no the basis of freuency of purchase\")\n",
    "print(retail_df[\"User_ID\"].value_counts(ascending = False).head(3))\n",
    "print()\n",
    "\n",
    "# 4. Top 3 user id that purchased the most : no the basis of total purchase\n",
    "\n",
    "print(\"4. Top 3 user id that purchased the most : no the basis of total purchase\")\n",
    "print(retail_df.groupby(\"User_ID\")[\"Purchase\"].sum().sort_values(ascending = False).head(3))\n",
    "print()\n",
    "\n",
    "# 5. Missing values\n",
    "\n",
    "print(\"5. Missing values in the dataset\")\n",
    "print(retail_df[\"Purchase\"].isna().sum())\n"
   ]
  },
  {
   "cell_type": "markdown",
   "id": "ef5c6453",
   "metadata": {},
   "source": [
    "#### Conclusion:"
   ]
  },
  {
   "cell_type": "raw",
   "id": "52bb1df9",
   "metadata": {},
   "source": [
    "1. From the above Boxplot it is clear that the outlier will lie for all the value of income above 80000\n",
    "\n",
    "2. Total no.of outlier for purchase - 3541\n",
    "\n",
    "3. Top 3 user id that purchased the most : no the basis of freuency of purchase\n",
    "\n",
    "USER ID    FRQUENCY\n",
    "\n",
    "1001680    1026\n",
    "1004277     979\n",
    "1001941     898\n",
    "\n",
    "4. Top 3 user id that purchased the most : no the basis of total purchase\n",
    "\n",
    "USER ID    TOTAL PURCHASE\n",
    "\n",
    "1004277    10536909\n",
    "1001680     8699596\n",
    "1002909     7577756\n",
    "\n",
    "5. There are no missing values.\n",
    "                 \n",
    "6. Statistics for purchase amount\n",
    "\n",
    "count    550068.0\n",
    "mean       9264.0\n",
    "std        5023.0\n",
    "min          12.0\n",
    "25%        5823.0\n",
    "50%        8047.0\n",
    "75%       12054.0\n",
    "max       23961.0                 \n",
    "                 "
   ]
  },
  {
   "cell_type": "markdown",
   "id": "2706d714",
   "metadata": {},
   "source": [
    "####  2. Product_id"
   ]
  },
  {
   "cell_type": "code",
   "execution_count": 8,
   "id": "587a452e",
   "metadata": {},
   "outputs": [
    {
     "name": "stdout",
     "output_type": "stream",
     "text": [
      "1.How many unique product_id are there in the dataset?\n",
      "No. of Unique Products :3631\n",
      "\n",
      "2. Missing values in the dataset\n",
      "0\n",
      "\n",
      "3. Top 5 user id that purchased the most : on the basis of total purchase\n"
     ]
    },
    {
     "data": {
      "image/png": "[encoded data removed]",
      "text/plain": [
       "<Figure size 432x288 with 1 Axes>"
      ]
     },
     "metadata": {
      "needs_background": "light"
     },
     "output_type": "display_data"
    }
   ],
   "source": [
    "# 1. Unique values\n",
    "\n",
    "print(\"1.How many unique product_id are there in the dataset?\")\n",
    "print(f'No. of Unique Products :{retail_df[\"Product_ID\"].nunique()}')\n",
    "print()\n",
    "\n",
    "# 2. Missing values\n",
    "\n",
    "print(\"2. Missing values in the dataset\")\n",
    "print(retail_df[\"Purchase\"].isna().sum())\n",
    "print()\n",
    "\n",
    "# 3. Top 5 Product id : on the basis of frequency \n",
    "\n",
    "print(\"3. Top 5 user id that purchased the most : on the basis of total purchase\")\n",
    "\n",
    "top_products = retail_df[\"Product_ID\"].value_counts(ascending=False).head(5)\n",
    "\n",
    "# Create a DataFrame with the top products and their frequencies\n",
    "w = pd.DataFrame({\"Product_ID\": top_products.index, \"Frequency\": top_products.values})\n",
    "\n",
    "sns.barplot(data = w,\n",
    "              x    = \"Product_ID\",\n",
    "              y = \"Frequency\")\n",
    "plt.show()\n"
   ]
  },
  {
   "cell_type": "markdown",
   "id": "06814c95",
   "metadata": {},
   "source": [
    "#### 3. Gender"
   ]
  },
  {
   "cell_type": "code",
   "execution_count": 9,
   "id": "e4d34744",
   "metadata": {},
   "outputs": [
    {
     "name": "stdout",
     "output_type": "stream",
     "text": [
      "1. Missing values :\n",
      "0\n",
      "\n"
     ]
    },
    {
     "data": {
      "image/png": "[encoded data removed]",
      "text/plain": [
       "<Figure size 432x288 with 1 Axes>"
      ]
     },
     "metadata": {
      "needs_background": "light"
     },
     "output_type": "display_data"
    }
   ],
   "source": [
    "# 1. Missing values\n",
    "\n",
    "print(\"1. Missing values :\")\n",
    "print(retail_df[\"Gender\"].isna().sum())\n",
    "print()\n",
    "\n",
    "# 2. Gender counts\n",
    "\n",
    "pl = sns.countplot(data = retail_df,\n",
    "              x    = \"Gender\"\n",
    "              )\n",
    "for i in pl.containers:\n",
    "    pl.bar_label(i,)    \n",
    "plt.show()\n",
    "\n"
   ]
  },
  {
   "cell_type": "markdown",
   "id": "4ccbe529",
   "metadata": {},
   "source": [
    "#### 4. Age"
   ]
  },
  {
   "cell_type": "code",
   "execution_count": 10,
   "id": "782baa63",
   "metadata": {},
   "outputs": [
    {
     "name": "stdout",
     "output_type": "stream",
     "text": [
      "Frequency of purchase on the basis of age\n"
     ]
    },
    {
     "data": {
      "image/png": "[encoded data removed]",
      "text/plain": [
       "<Figure size 432x288 with 1 Axes>"
      ]
     },
     "metadata": {
      "needs_background": "light"
     },
     "output_type": "display_data"
    }
   ],
   "source": [
    "print(\"Frequency of purchase on the basis of age\")\n",
    "retail_df[\"Age\"].value_counts(ascending = False)\n",
    "\n",
    "sns.histplot(data = retail_df,\n",
    "             x = \"Age\"\n",
    "             )\n",
    "plt.show()"
   ]
  },
  {
   "cell_type": "raw",
   "id": "b39047b4",
   "metadata": {},
   "source": [
    "Insights :\n",
    "People with age range in between 26-35 is purchasing most frequently."
   ]
  },
  {
   "cell_type": "markdown",
   "id": "764ab8d2",
   "metadata": {},
   "source": [
    "#### 5. Occupation"
   ]
  },
  {
   "cell_type": "code",
   "execution_count": 11,
   "id": "bd5e23be",
   "metadata": {},
   "outputs": [
    {
     "name": "stdout",
     "output_type": "stream",
     "text": [
      "Frequency of purchase on the basis of age\n"
     ]
    },
    {
     "data": {
      "image/png": "[encoded data removed]",
      "text/plain": [
       "<Figure size 576x576 with 1 Axes>"
      ]
     },
     "metadata": {
      "needs_background": "light"
     },
     "output_type": "display_data"
    }
   ],
   "source": [
    "\n",
    "print(\"Frequency of purchase on the basis of age\")\n",
    "retail_df[\"Occupation\"].value_counts(ascending = False)\n",
    "\n",
    "plt.figure(figsize=(8,8))\n",
    "sns.countplot(data = retail_df,\n",
    "             x = \"Occupation\"\n",
    "             )\n",
    "plt.show()"
   ]
  },
  {
   "cell_type": "raw",
   "id": "80627531",
   "metadata": {},
   "source": [
    "Conclusion : Occupation 0, 4, 7 : Frequency of purchasing for these occpation is most."
   ]
  },
  {
   "cell_type": "markdown",
   "id": "d61a63cf",
   "metadata": {},
   "source": [
    "#### 6. Stay_in_Current_Years"
   ]
  },
  {
   "cell_type": "code",
   "execution_count": 12,
   "id": "67459a42",
   "metadata": {},
   "outputs": [
    {
     "name": "stdout",
     "output_type": "stream",
     "text": [
      "Frequency of purchase on the basis of Stay_in_Current_Years\n"
     ]
    },
    {
     "data": {
      "image/png": "[encoded data removed]",
      "text/plain": [
       "<Figure size 576x576 with 1 Axes>"
      ]
     },
     "metadata": {
      "needs_background": "light"
     },
     "output_type": "display_data"
    }
   ],
   "source": [
    "print(\"Frequency of purchase on the basis of Stay_in_Current_Years\")\n",
    "retail_df[\"Occupation\"].value_counts(ascending = False)\n",
    "\n",
    "plt.figure(figsize=(8,8))\n",
    "sns.countplot(data = retail_df,\n",
    "             x = \"Stay_In_Current_City_Years\"\n",
    "             )\n",
    "plt.show()"
   ]
  },
  {
   "cell_type": "raw",
   "id": "23d596a4",
   "metadata": {},
   "source": [
    "Conclusion : People who have just shifted or stayed less than or equal to a year has purchased the most."
   ]
  },
  {
   "cell_type": "markdown",
   "id": "cde0c9df",
   "metadata": {},
   "source": [
    "#### 7. City_Category"
   ]
  },
  {
   "cell_type": "code",
   "execution_count": 13,
   "id": "569a4128",
   "metadata": {},
   "outputs": [
    {
     "name": "stdout",
     "output_type": "stream",
     "text": [
      "Frequency of purchase on the basis of city category\n"
     ]
    },
    {
     "data": {
      "image/png": "[encoded data removed]",
      "text/plain": [
       "<Figure size 288x288 with 1 Axes>"
      ]
     },
     "metadata": {
      "needs_background": "light"
     },
     "output_type": "display_data"
    }
   ],
   "source": [
    "print(\"Frequency of purchase on the basis of city category\")\n",
    "retail_df[\"Occupation\"].value_counts(ascending = False)\n",
    "\n",
    "plt.figure(figsize=(4,4))\n",
    "sns.countplot(data = retail_df,\n",
    "             x = \"City_Category\"\n",
    "             )\n",
    "plt.show()"
   ]
  },
  {
   "cell_type": "raw",
   "id": "d721fa1b",
   "metadata": {},
   "source": [
    "People who stayed in City category B have high frquency of purchasing."
   ]
  },
  {
   "cell_type": "markdown",
   "id": "5b63b604",
   "metadata": {},
   "source": [
    "## Bivariate Analysis"
   ]
  },
  {
   "cell_type": "markdown",
   "id": "9887f12f",
   "metadata": {},
   "source": [
    "#### 1. Gender vs Purchase "
   ]
  },
  {
   "cell_type": "code",
   "execution_count": 14,
   "id": "a6b9927c",
   "metadata": {},
   "outputs": [
    {
     "data": {
      "image/png": "[encoded data removed]",
      "text/plain": [
       "<Figure size 288x432 with 1 Axes>"
      ]
     },
     "metadata": {
      "needs_background": "light"
     },
     "output_type": "display_data"
    },
    {
     "name": "stdout",
     "output_type": "stream",
     "text": [
      "Sample Mean for expenditure based on gender\n"
     ]
    },
    {
     "data": {
      "image/png": "[encoded data removed]",
      "text/plain": [
       "<Figure size 432x432 with 1 Axes>"
      ]
     },
     "metadata": {
      "needs_background": "light"
     },
     "output_type": "display_data"
    }
   ],
   "source": [
    "plt.figure(figsize = (4,6))\n",
    "\n",
    "sns.boxplot(data = retail_df,\n",
    "           y = \"Purchase\",\n",
    "           x = \"Gender\" ,\n",
    "           showmeans=True)\n",
    "plt.show()\n",
    "\n",
    "# 1 . Sample Mean for expenditure based on gender\n",
    "\n",
    "print(\"Sample Mean for expenditure based on gender\")\n",
    "mean_df = pd.DataFrame(retail_df.groupby(\"Gender\")[\"Purchase\"].mean().round(0)).reset_index()\n",
    "\n",
    "#print(mean_df)\n",
    "\n",
    "plt.figure(figsize=(6, 6))\n",
    "mean_pur = sns.barplot(data=mean_df, x=\"Gender\", y=\"Purchase\")\n",
    "\n",
    "# Add bar labels (rounded mean values) to the bars\n",
    "for p in mean_pur.containers:\n",
    "    mean_pur.bar_label(p, label_type='edge', fontsize=12)\n",
    "    "
   ]
  },
  {
   "cell_type": "raw",
   "id": "9dc97a0b",
   "metadata": {},
   "source": [
    "Conclusion:\n",
    "From above graphs we can see that on an avg expenditure of male is more than female although the difference is not much. "
   ]
  },
  {
   "cell_type": "markdown",
   "id": "ac707d29",
   "metadata": {},
   "source": [
    "#### 2. Marital_Status vs Purchase"
   ]
  },
  {
   "cell_type": "code",
   "execution_count": 15,
   "id": "841d856e",
   "metadata": {},
   "outputs": [
    {
     "name": "stdout",
     "output_type": "stream",
     "text": [
      "Sample Mean for expenditure based on marital status\n"
     ]
    },
    {
     "data": {
      "image/png": "[encoded data removed]",
      "text/plain": [
       "<Figure size 432x432 with 1 Axes>"
      ]
     },
     "metadata": {
      "needs_background": "light"
     },
     "output_type": "display_data"
    },
    {
     "name": "stdout",
     "output_type": "stream",
     "text": [
      "Sample Mean for expenditure based on marital status\n"
     ]
    },
    {
     "data": {
      "image/png": "[encoded data removed]",
      "text/plain": [
       "<Figure size 432x432 with 1 Axes>"
      ]
     },
     "metadata": {
      "needs_background": "light"
     },
     "output_type": "display_data"
    }
   ],
   "source": [
    "# 1 . Sample Mean for expenditure based on marital status\n",
    "\n",
    "print(\"Sample Mean for expenditure based on marital status\")\n",
    "mean_df = pd.DataFrame(retail_df.groupby(\"Marital_Status\")[\"Purchase\"].mean().round(0)).reset_index()\n",
    "\n",
    "#print(mean_df)\n",
    "\n",
    "plt.figure(figsize=(6, 6))\n",
    "mean_pur = sns.barplot(data=mean_df,\n",
    "                       x=\"Marital_Status\",\n",
    "                       y=\"Purchase\",\n",
    "                      )\n",
    "\n",
    "# Add bar labels (rounded mean values) to the bars\n",
    "for p in mean_pur.containers:\n",
    "    mean_pur.bar_label(p, label_type='edge', fontsize=12)\n",
    "\n",
    "plt.show()\n",
    "\n",
    "print(\"Sample Mean for expenditure based on marital status\")\n",
    "\n",
    "plt.figure(figsize=(6, 6))\n",
    "mean_pur = sns.boxplot(data = retail_df,\n",
    "                       x= \"Marital_Status\",\n",
    "                       y= \"Purchase\",\n",
    "                      showmeans = True)\n",
    "plt.show()\n"
   ]
  },
  {
   "cell_type": "raw",
   "id": "d37e5469",
   "metadata": {},
   "source": [
    "Conclusion : There is marginal difference : We have to check for confidence interval"
   ]
  },
  {
   "cell_type": "markdown",
   "id": "493603b3",
   "metadata": {},
   "source": [
    "#### 3. Occupation vs Purchase"
   ]
  },
  {
   "cell_type": "code",
   "execution_count": 16,
   "id": "4382cbca",
   "metadata": {},
   "outputs": [
    {
     "name": "stdout",
     "output_type": "stream",
     "text": [
      "Sample Mean for expenditure based on occupation\n"
     ]
    },
    {
     "data": {
      "image/png": "[encoded data removed]",
      "text/plain": [
       "<Figure size 1296x576 with 1 Axes>"
      ]
     },
     "metadata": {
      "needs_background": "light"
     },
     "output_type": "display_data"
    },
    {
     "data": {
      "image/png": "[encoded data removed]",
      "text/plain": [
       "<Figure size 1296x432 with 1 Axes>"
      ]
     },
     "metadata": {
      "needs_background": "light"
     },
     "output_type": "display_data"
    }
   ],
   "source": [
    "print(\"Sample Mean for expenditure based on occupation\")\n",
    "plt.figure(figsize=(18, 8))\n",
    "mean_pur = sns.boxplot(data = retail_df,\n",
    "                       x= \"Occupation\",\n",
    "                       y= \"Purchase\",\n",
    "                      showmeans = True)\n",
    "plt.show()\n",
    "\n",
    "\n",
    "mean_df = pd.DataFrame(retail_df.groupby(\"Occupation\")[\"Purchase\"].mean().round(0)).reset_index()\n",
    "\n",
    "#print(mean_df)\n",
    "\n",
    "plt.figure(figsize=(18, 6))\n",
    "mean_pur = sns.barplot(data=mean_df,\n",
    "                       x=\"Occupation\",\n",
    "                       y=\"Purchase\",\n",
    "                      )\n",
    "\n",
    "# Add bar labels (rounded mean values) to the bars\n",
    "for p in mean_pur.containers:\n",
    "    mean_pur.bar_label(p, label_type='edge', fontsize=12)\n",
    "\n",
    "plt.show()"
   ]
  },
  {
   "cell_type": "raw",
   "id": "e5dfa245",
   "metadata": {},
   "source": [
    "Conclusion : People with occupation 12,15,17 on average is spending the most"
   ]
  },
  {
   "cell_type": "markdown",
   "id": "da52e4db",
   "metadata": {},
   "source": [
    "#### 5. Age vs Purchase"
   ]
  },
  {
   "cell_type": "code",
   "execution_count": 17,
   "id": "93f06666",
   "metadata": {},
   "outputs": [
    {
     "name": "stdout",
     "output_type": "stream",
     "text": [
      "Sample Mean for expenditure based on age bin\n"
     ]
    },
    {
     "data": {
      "image/png": "[encoded data removed]",
      "text/plain": [
       "<Figure size 432x432 with 1 Axes>"
      ]
     },
     "metadata": {
      "needs_background": "light"
     },
     "output_type": "display_data"
    }
   ],
   "source": [
    "print(\"Sample Mean for expenditure based on age bin\")\n",
    "mean_df_age = pd.DataFrame(retail_df.groupby(\"Age\")[\"Purchase\"].mean().round(0)).reset_index()\n",
    "\n",
    "#print(mean_df)\n",
    "\n",
    "plt.figure(figsize=(6, 6))\n",
    "mean_age = sns.barplot(data=mean_df_age,\n",
    "                       x=\"Age\",\n",
    "                       y=\"Purchase\",\n",
    "                      )\n",
    "\n",
    "# Add bar labels (rounded mean values) to the bars\n",
    "for p in mean_age.containers:\n",
    "    mean_age.bar_label(p, label_type='edge', fontsize=12)"
   ]
  },
  {
   "cell_type": "markdown",
   "id": "0d5dbc6a",
   "metadata": {},
   "source": [
    "#### 6. Stay_in_city_year vs Purchase"
   ]
  },
  {
   "cell_type": "code",
   "execution_count": 18,
   "id": "20265fd0",
   "metadata": {},
   "outputs": [
    {
     "name": "stdout",
     "output_type": "stream",
     "text": [
      "Sample Mean for expenditure based on age bin\n"
     ]
    },
    {
     "data": {
      "image/png": "[encoded data removed]",
      "text/plain": [
       "<Figure size 432x432 with 1 Axes>"
      ]
     },
     "metadata": {
      "needs_background": "light"
     },
     "output_type": "display_data"
    }
   ],
   "source": [
    "print(\"Sample Mean for expenditure based on age bin\")\n",
    "mean_df_age = pd.DataFrame(retail_df.groupby(\"Stay_In_Current_City_Years\")[\"Purchase\"].mean().round(0)).reset_index()\n",
    "\n",
    "#print(mean_df)\n",
    "\n",
    "plt.figure(figsize=(6, 6))\n",
    "mean_age = sns.barplot(data=mean_df_age,\n",
    "                       x=\"Stay_In_Current_City_Years\",\n",
    "                       y=\"Purchase\",\n",
    "                      )\n",
    "\n",
    "# Add bar labels (rounded mean values) to the bars\n",
    "for p in mean_age.containers:\n",
    "    mean_age.bar_label(p, label_type='edge', fontsize=12)"
   ]
  },
  {
   "cell_type": "raw",
   "id": "63190a91",
   "metadata": {},
   "source": [
    "Conclusion : People who stayed for 2 years have been purchasing the most"
   ]
  },
  {
   "cell_type": "markdown",
   "id": "5f45d19f",
   "metadata": {},
   "source": [
    "#### 7. City Category vs Purchase"
   ]
  },
  {
   "cell_type": "code",
   "execution_count": 19,
   "id": "d6342ee3",
   "metadata": {},
   "outputs": [
    {
     "name": "stdout",
     "output_type": "stream",
     "text": [
      "Sample Mean for expenditure based on age bin\n"
     ]
    },
    {
     "data": {
      "image/png": "[encoded data removed]",
      "text/plain": [
       "<Figure size 432x432 with 1 Axes>"
      ]
     },
     "metadata": {
      "needs_background": "light"
     },
     "output_type": "display_data"
    }
   ],
   "source": [
    "print(\"Sample Mean for expenditure based on age bin\")\n",
    "mean_df_age = pd.DataFrame(retail_df.groupby(\"City_Category\")[\"Purchase\"].mean().round(0)).reset_index()\n",
    "\n",
    "#print(mean_df)\n",
    "\n",
    "plt.figure(figsize=(6, 6))\n",
    "mean_age = sns.barplot(data=mean_df_age,\n",
    "                       x=\"City_Category\",\n",
    "                       y=\"Purchase\",\n",
    "                      )\n",
    "\n",
    "# Add bar labels (rounded mean values) to the bars\n",
    "for p in mean_age.containers:\n",
    "    mean_age.bar_label(p, label_type='edge', fontsize=12)"
   ]
  },
  {
   "cell_type": "raw",
   "id": "82ec5b98",
   "metadata": {},
   "source": [
    "Conclusion : People staying in City Category C on an average spends more."
   ]
  },
  {
   "cell_type": "markdown",
   "id": "aaf81b1b",
   "metadata": {},
   "source": [
    "## Sampling and Confidence interval"
   ]
  },
  {
   "cell_type": "markdown",
   "id": "3aa2637c",
   "metadata": {},
   "source": [
    "## 1. Gender"
   ]
  },
  {
   "cell_type": "markdown",
   "id": "ddef580f",
   "metadata": {},
   "source": [
    "#### 1. Are women spending more money per transaction than men? Why or Why not? "
   ]
  },
  {
   "cell_type": "code",
   "execution_count": 20,
   "id": "6d5101c9",
   "metadata": {},
   "outputs": [
    {
     "name": "stdout",
     "output_type": "stream",
     "text": [
      "Sample Mean for expenditure based on gender\n"
     ]
    },
    {
     "data": {
      "image/png": "[encoded data removed]",
      "text/plain": [
       "<Figure size 432x432 with 1 Axes>"
      ]
     },
     "metadata": {
      "needs_background": "light"
     },
     "output_type": "display_data"
    }
   ],
   "source": [
    "# 1 . Sample Mean for expenditure based on gender\n",
    "\n",
    "print(\"Sample Mean for expenditure based on gender\")\n",
    "mean_df = pd.DataFrame(retail_df.groupby(\"Gender\")[\"Purchase\"].mean().round(0)).reset_index()\n",
    "\n",
    "#print(mean_df)\n",
    "\n",
    "plt.figure(figsize=(6, 6))\n",
    "mean_pur = sns.barplot(data=mean_df,\n",
    "                       x=\"Gender\",\n",
    "                       y=\"Purchase\",\n",
    "                      )\n",
    "\n",
    "# Add bar labels (rounded mean values) to the bars\n",
    "for p in mean_pur.containers:\n",
    "    mean_pur.bar_label(p, label_type='edge', fontsize=12)\n",
    "    "
   ]
  },
  {
   "cell_type": "raw",
   "id": "46166e56",
   "metadata": {},
   "source": [
    "From the graph it is can be concluded that on an average male spend more money than female."
   ]
  },
  {
   "cell_type": "markdown",
   "id": "8add8d62",
   "metadata": {},
   "source": [
    "### Reason "
   ]
  },
  {
   "cell_type": "markdown",
   "id": "86e82f1d",
   "metadata": {},
   "source": [
    "#### 1. Marital_status"
   ]
  },
  {
   "cell_type": "code",
   "execution_count": 21,
   "id": "ede963b2",
   "metadata": {},
   "outputs": [
    {
     "data": {
      "image/png": "[encoded data removed]",
      "text/plain": [
       "<Figure size 576x432 with 1 Axes>"
      ]
     },
     "metadata": {
      "needs_background": "light"
     },
     "output_type": "display_data"
    }
   ],
   "source": [
    "# Group by \"Gender\" and \"Marital_Status\" and calculate the mean purchase expenditure\n",
    "mean_df = retail_df.groupby([\"Gender\", \"Marital_Status\"])[\"Purchase\"].mean().reset_index()\n",
    "\n",
    "plt.figure(figsize=(8, 6))\n",
    "mean_pur = sns.barplot(data=mean_df,\n",
    "                       x=\"Gender\",\n",
    "                       y=\"Purchase\",\n",
    "                       hue=\"Marital_Status\")\n",
    "\n",
    "# Add axis labels\n",
    "plt.xlabel(\"Gender\")\n",
    "plt.ylabel(\"Mean Purchase Expenditure\")\n",
    "\n",
    "# Show the plot\n",
    "plt.show()\n"
   ]
  },
  {
   "cell_type": "code",
   "execution_count": 22,
   "id": "27abb456",
   "metadata": {},
   "outputs": [
    {
     "name": "stdout",
     "output_type": "stream",
     "text": [
      "Marital_Status  Maried  Not_married     All\n",
      "Gender                                     \n",
      "Female           56988        78821  135809\n",
      "Male            168349       245910  414259\n",
      "All             225337       324731  550068\n"
     ]
    }
   ],
   "source": [
    "marital_status_counts = pd.crosstab(index= retail_df[\"Gender\"] , columns = retail_df[\"Marital_Status\"],margins = True)\n",
    "print(marital_status_counts)"
   ]
  },
  {
   "cell_type": "raw",
   "id": "63676417",
   "metadata": {},
   "source": [
    "In the sample, there are more married men. \n",
    "\n",
    "Marital status can indeed be a significant factor that influences spending patterns."
   ]
  },
  {
   "cell_type": "markdown",
   "id": "cd1462e4",
   "metadata": {},
   "source": [
    "#### 2. Product category"
   ]
  },
  {
   "cell_type": "code",
   "execution_count": 23,
   "id": "6dd091cc",
   "metadata": {},
   "outputs": [],
   "source": [
    "average_purchase_by_product_category = retail_df.groupby('Product_Category')['Purchase'].mean()\n",
    "average_purchase_by_product_category_top_five  = average_purchase_by_product_category.sort_values(ascending=False).head(10)\n"
   ]
  },
  {
   "cell_type": "code",
   "execution_count": 24,
   "id": "1539b289",
   "metadata": {},
   "outputs": [
    {
     "data": {
      "text/plain": [
       "Product_Category\n",
       "10    19676.0\n",
       "7     16366.0\n",
       "6     15838.0\n",
       "9     15537.0\n",
       "15    14780.0\n",
       "16    14766.0\n",
       "1     13606.0\n",
       "14    13142.0\n",
       "2     11252.0\n",
       "17    10171.0\n",
       "Name: Purchase, dtype: float64"
      ]
     },
     "execution_count": 24,
     "metadata": {},
     "output_type": "execute_result"
    }
   ],
   "source": [
    "average_purchase_by_product_category_top_five.round(0)"
   ]
  },
  {
   "cell_type": "code",
   "execution_count": 25,
   "id": "49b8b436",
   "metadata": {},
   "outputs": [
    {
     "data": {
      "text/plain": [
       "1     115547\n",
       "5     108972\n",
       "8      80367\n",
       "11     19548\n",
       "2      18206\n",
       "6      15907\n",
       "3      14207\n",
       "4       8114\n",
       "16      7426\n",
       "15      5244\n",
       "Name: Product_Category, dtype: int64"
      ]
     },
     "execution_count": 25,
     "metadata": {},
     "output_type": "execute_result"
    }
   ],
   "source": [
    "retail_df.loc[retail_df[\"Gender\"] == \"Male\"][\"Product_Category\"].value_counts(ascending =False).head(10)"
   ]
  },
  {
   "cell_type": "code",
   "execution_count": 26,
   "id": "1f49995b",
   "metadata": {},
   "outputs": [
    {
     "data": {
      "text/plain": [
       "5     41961\n",
       "8     33558\n",
       "1     24831\n",
       "3      6006\n",
       "2      5658\n",
       "11     4739\n",
       "6      4559\n",
       "4      3639\n",
       "16     2402\n",
       "12     1532\n",
       "Name: Product_Category, dtype: int64"
      ]
     },
     "execution_count": 26,
     "metadata": {},
     "output_type": "execute_result"
    }
   ],
   "source": [
    "retail_df.loc[retail_df[\"Gender\"] == \"Female\"][\"Product_Category\"].value_counts(ascending =False).head(10)"
   ]
  },
  {
   "cell_type": "raw",
   "id": "c0a91993",
   "metadata": {},
   "source": [
    "From above observation it can be concluded that male are spending more on product category 1,2,6,15,16 which are in the list of top 10 most expensive category. "
   ]
  },
  {
   "cell_type": "markdown",
   "id": "bf38571e",
   "metadata": {},
   "source": [
    "#### 3. Occupation"
   ]
  },
  {
   "cell_type": "code",
   "execution_count": 27,
   "id": "85ec580e",
   "metadata": {},
   "outputs": [
    {
     "data": {
      "text/plain": [
       "4     54472\n",
       "0     51526\n",
       "7     49105\n",
       "17    36114\n",
       "1     29442\n",
       "12    27710\n",
       "20    24751\n",
       "16    21264\n",
       "14    20546\n",
       "2     17959\n",
       "Name: Occupation, dtype: int64"
      ]
     },
     "execution_count": 27,
     "metadata": {},
     "output_type": "execute_result"
    }
   ],
   "source": [
    "retail_df.loc[retail_df[\"Gender\"] == \"Male\"][\"Occupation\"].value_counts(ascending =False).head(10)"
   ]
  },
  {
   "cell_type": "code",
   "execution_count": 28,
   "id": "232089d0",
   "metadata": {},
   "outputs": [
    {
     "data": {
      "text/plain": [
       "0     18112\n",
       "1     17984\n",
       "4     17836\n",
       "7     10028\n",
       "20     8811\n",
       "2      8629\n",
       "6      8160\n",
       "3      7919\n",
       "14     6763\n",
       "9      5843\n",
       "Name: Occupation, dtype: int64"
      ]
     },
     "execution_count": 28,
     "metadata": {},
     "output_type": "execute_result"
    }
   ],
   "source": [
    "retail_df.loc[retail_df[\"Gender\"] == \"Female\"][\"Occupation\"].value_counts(ascending =False).head(10)"
   ]
  },
  {
   "cell_type": "code",
   "execution_count": 29,
   "id": "d39dc714",
   "metadata": {},
   "outputs": [
    {
     "data": {
      "text/plain": [
       "Occupation\n",
       "17    9821.478236\n",
       "12    9796.640239\n",
       "15    9778.891163\n",
       "8     9532.592497\n",
       "14    9500.702772\n",
       "Name: Purchase, dtype: float64"
      ]
     },
     "execution_count": 29,
     "metadata": {},
     "output_type": "execute_result"
    }
   ],
   "source": [
    "average_purchase_by_occupation = retail_df.groupby('Occupation')['Purchase'].mean()\n",
    "average_purchase_by_occupation_sorted = average_purchase_by_occupation.sort_values(ascending=False)\n",
    "average_purchase_by_occupation_sorted.head()"
   ]
  },
  {
   "cell_type": "raw",
   "id": "51ee689d",
   "metadata": {},
   "source": [
    "From above observation it can be concluded that more male are in the occupation category of 17,12 ,14 which are in the list of top 5 most purchsing occupation. "
   ]
  },
  {
   "cell_type": "markdown",
   "id": "17e48891",
   "metadata": {},
   "source": [
    "#### 4. By age"
   ]
  },
  {
   "cell_type": "code",
   "execution_count": 30,
   "id": "ed2e6696",
   "metadata": {},
   "outputs": [
    {
     "data": {
      "text/plain": [
       "Gender  Age  \n",
       "Female  26-35     50752\n",
       "        36-45     27170\n",
       "        18-25     24628\n",
       "        46-50     13199\n",
       "        51-55      9894\n",
       "        0-17       5083\n",
       "        55+        5083\n",
       "Male    26-35    168835\n",
       "        36-45     82843\n",
       "        18-25     75032\n",
       "        46-50     32502\n",
       "        51-55     28607\n",
       "        55+       16421\n",
       "        0-17      10019\n",
       "Name: Age, dtype: int64"
      ]
     },
     "execution_count": 30,
     "metadata": {},
     "output_type": "execute_result"
    }
   ],
   "source": [
    "retail_df.groupby(\"Gender\")[\"Age\"].value_counts(ascending = False)"
   ]
  },
  {
   "cell_type": "code",
   "execution_count": 31,
   "id": "d2777dfd",
   "metadata": {},
   "outputs": [
    {
     "data": {
      "text/plain": [
       "Age\n",
       "51-55    9534.808031\n",
       "55+      9336.280459\n",
       "36-45    9331.350695\n",
       "26-35    9252.690633\n",
       "46-50    9208.625697\n",
       "18-25    9169.663606\n",
       "0-17     8933.464640\n",
       "Name: Purchase, dtype: float64"
      ]
     },
     "execution_count": 31,
     "metadata": {},
     "output_type": "execute_result"
    }
   ],
   "source": [
    "purchase_by_age = retail_df.groupby(\"Age\")[\"Purchase\"].mean().sort_values(ascending = False)\n",
    "purchase_by_age"
   ]
  },
  {
   "cell_type": "raw",
   "id": "ab323be2",
   "metadata": {},
   "source": [
    "From above observation it can be concluded that more male are in the age bracket of greater than 50 when compared with women.\n",
    "\n",
    "And for each of the age bin males are more than women so they spends more."
   ]
  },
  {
   "cell_type": "markdown",
   "id": "39051a12",
   "metadata": {},
   "source": [
    "#### Conclusion "
   ]
  },
  {
   "cell_type": "raw",
   "id": "218f7866",
   "metadata": {},
   "source": [
    "Potential Reasons for Men Spending More:\n",
    "\n",
    "Occupation status: Certain occupations may have higher incomes, leading to higher spending.\n",
    "Product preferences: Men might prefer more expensive products or product categories.\n",
    "Marital status: If more men are married, combined household income may be higher.\n",
    "Age : more male are in the age bracket of greater than 50 when compared with women."
   ]
  },
  {
   "cell_type": "markdown",
   "id": "2fa50040",
   "metadata": {},
   "source": [
    "### 2. Confidence intervals and distribution of the mean of the expenses by female and male customers"
   ]
  },
  {
   "cell_type": "markdown",
   "id": "dc773bf7",
   "metadata": {},
   "source": [
    "### *** Bootstrapping ***"
   ]
  },
  {
   "cell_type": "markdown",
   "id": "e5cf3a8b",
   "metadata": {},
   "source": [
    "#### Creating sampling distribution using Bootstrapped mean"
   ]
  },
  {
   "cell_type": "code",
   "execution_count": 32,
   "id": "bad125b2",
   "metadata": {},
   "outputs": [
    {
     "name": "stdout",
     "output_type": "stream",
     "text": [
      "The distribution of mean value of amount spent by Female per transaction for 1000 survey for entire dataset\n"
     ]
    },
    {
     "data": {
      "image/png": "[encoded data removed]",
      "text/plain": [
       "<Figure size 432x288 with 1 Axes>"
      ]
     },
     "metadata": {
      "needs_background": "light"
     },
     "output_type": "display_data"
    },
    {
     "name": "stdout",
     "output_type": "stream",
     "text": [
      "95% Confidence interval for amount spent by Female per transaction\n",
      "[8710.51 8756.72]\n",
      "\n",
      "The distribution of mean value of amount spent by Male per transaction for 1000 survey for entire dataset\n"
     ]
    },
    {
     "data": {
      "image/png": "[encoded data removed]",
      "text/plain": [
       "<Figure size 432x288 with 1 Axes>"
      ]
     },
     "metadata": {
      "needs_background": "light"
     },
     "output_type": "display_data"
    },
    {
     "name": "stdout",
     "output_type": "stream",
     "text": [
      "95% Confidence interval for amount spent by Male per transaction\n",
      "[9422.02 9453.36]\n",
      "\n"
     ]
    }
   ],
   "source": [
    "# Bootstrap sampling\n",
    "\n",
    "# Number of bootstrap iterations\n",
    "n_iterations = 100\n",
    "\n",
    "# List to store bootstrapped means\n",
    "bootstrapped_mean_survey = []  # it will nested list which will contain one list of mean for male and female\n",
    "\n",
    "gen_uni_value = retail_df[\"Gender\"].unique()\n",
    "for val in gen_uni_value:\n",
    "    \n",
    "    gen_mean_list = [] # gender wise mean list that will be appended to bootstrapped_mean_survey\n",
    "    \n",
    "    for samp in range(n_iterations):\n",
    "        \n",
    "        filter_df = retail_df[retail_df[\"Gender\"] == val][\"Purchase\"]\n",
    "        \n",
    "        # Create a bootstrap sample of customers (with replacement)\n",
    "        random_sample = filter_df.sample(frac = 1, replace=True)\n",
    "    \n",
    "        # Calculate the sample mean for the current bootstrap sample\n",
    "        sample_mean = random_sample.mean()\n",
    "    \n",
    "        # Append the sample mean to the list of bootstrapped means\n",
    "        gen_mean_list.append(sample_mean)\n",
    "    \n",
    "    bootstrapped_mean_survey.append(gen_mean_list)\n",
    "    \n",
    "# Distribution of sample mean of 1000 survey using bootstrap and furnishing confidence interval    \n",
    "    \n",
    "# x for indexing\n",
    "x = 0\n",
    "for gen in gen_uni_value:  \n",
    "    \n",
    "    # Distribution of mean values for 1000 surveys\n",
    "    \n",
    "    print(f\"The distribution of mean value of amount spent by {gen} per transaction for 1000 survey for entire dataset\")\n",
    "    sns.histplot(x = bootstrapped_mean_survey[x])\n",
    "    plt.xlabel(f\"Sample mean for spending of {gen}\")\n",
    "    plt.show()\n",
    "    \n",
    "    # 95% confidence interval\n",
    "    \n",
    "    # Calculate the confidence interval (e.g., 95% confidence interval)\n",
    "    print(f\"95% Confidence interval for amount spent by {gen} per transaction\")\n",
    "    print(np.percentile(bootstrapped_mean_survey[x],[2.5, 97.5]).round(2))\n",
    "    print()\n",
    "    x+=1"
   ]
  },
  {
   "cell_type": "markdown",
   "id": "d8387282",
   "metadata": {},
   "source": [
    "### ** CENTRAL LIMIT THEOREM **"
   ]
  },
  {
   "cell_type": "code",
   "execution_count": 33,
   "id": "e6cc3b53",
   "metadata": {},
   "outputs": [
    {
     "name": "stdout",
     "output_type": "stream",
     "text": [
      "Confidence Interval for Male Purchases: (9422.019402055814, 9453.032678888716)\n",
      "Confidence Interval for Female Purchases: (8709.21132117373, 8759.92020913722)\n"
     ]
    }
   ],
   "source": [
    "# Split data into male and female samples\n",
    "sample_male = retail_df.loc[retail_df[\"Gender\"] == \"Male\"]\n",
    "sample_female = retail_df.loc[retail_df[\"Gender\"] == \"Female\"]\n",
    "\n",
    "# Confidence level\n",
    "confidence_level = 0.95\n",
    "\n",
    "# Sample sizes\n",
    "sample_size_male = len(sample_male)\n",
    "sample_size_female = len(sample_female)\n",
    "\n",
    "# Sample means\n",
    "sample_mean_male = sample_male[\"Purchase\"].mean()\n",
    "sample_mean_female = sample_female[\"Purchase\"].mean()\n",
    "\n",
    "# Sample standard deviations (with Bessel's correction)\n",
    "sample_std_male = np.std(sample_male[\"Purchase\"], ddof=1)\n",
    "sample_std_female = np.std(sample_female[\"Purchase\"], ddof=1)\n",
    "\n",
    "# Degrees of freedom for t-distribution\n",
    "degree_of_freedom_male = sample_size_male - 1\n",
    "degree_of_freedom_female = sample_size_female - 1\n",
    "\n",
    "# Calculate the standard error of the mean\n",
    "standard_error_male = sample_std_male / np.sqrt(sample_size_male)\n",
    "standard_error_female = sample_std_female / np.sqrt(sample_size_female)\n",
    "\n",
    "# Calculate the t-scores for the given confidence level and degrees of freedom\n",
    "t_score_male = stats.t.ppf((1 + confidence_level) / 2, df=degree_of_freedom_male)\n",
    "t_score_female = stats.t.ppf((1 + confidence_level) / 2, df=degree_of_freedom_female)\n",
    "\n",
    "# Calculate the margin of error\n",
    "margin_of_error_male = t_score_male * standard_error_male\n",
    "margin_of_error_female = t_score_female * standard_error_female\n",
    "\n",
    "# Calculate the confidence intervals\n",
    "confidence_interval_male = (sample_mean_male - margin_of_error_male, sample_mean_male + margin_of_error_male)\n",
    "confidence_interval_female = (sample_mean_female - margin_of_error_female, sample_mean_female + margin_of_error_female)\n",
    "\n",
    "print(\"Confidence Interval for Male Purchases:\", confidence_interval_male)\n",
    "print(\"Confidence Interval for Female Purchases:\", confidence_interval_female)"
   ]
  },
  {
   "cell_type": "markdown",
   "id": "bbccff19",
   "metadata": {},
   "source": [
    "### 3. Are confidence intervals of average male and female spending overlapping? How can Walmart leverage this conclusion to make changes or improvements?"
   ]
  },
  {
   "cell_type": "markdown",
   "id": "b0bcac84",
   "metadata": {},
   "source": [
    "### --> Non overlapping"
   ]
  },
  {
   "cell_type": "raw",
   "id": "90195868",
   "metadata": {},
   "source": [
    "Conclusion :\n",
    "\n",
    "95% Confidence interval for amount spent by Female per transaction\n",
    "[8708.53 8758.43]\n",
    "\n",
    "95% Confidence interval for amount spent by Male per transaction\n",
    "[9422.16 9452.83]\n",
    "\n",
    "When we have two non-overlapping confidence intervals for the amount spent per transaction by females and males, it suggests that there is a statistically significant difference in the spending behavior between these two groups. \n",
    "\n",
    "In our case, the intervals for females and males do not overlap, which means that it is likely that the average amount spent per transaction by females is different from the average amount spent per transaction by males.\n"
   ]
  },
  {
   "cell_type": "markdown",
   "id": "cb6455d2",
   "metadata": {},
   "source": [
    "### --> Improvement and changes that can be implemented from this conclusion"
   ]
  },
  {
   "cell_type": "raw",
   "id": "f2214aee",
   "metadata": {},
   "source": [
    "Here's how you can leverage this conclusion to make changes or improvements in your business strategy or marketing efforts:\n",
    "\n",
    "Targeted Marketing: Given the significant difference in spending behavior, you can create targeted marketing campaigns tailored to each group. \n",
    "\n",
    "Product Offerings: Adjust your product offerings to cater to the specific preferences and needs of each group. Ensure that your product selection aligns with the spending behavior you've observed.\n",
    "\n",
    "Pricing Strategies: Consider different pricing strategies for products or services that are popular among each gender. You can optimize prices based on their willingness to spend.\n",
    "\n",
    "Customer Engagement: Tailor your customer engagement and customer service efforts to address the unique characteristics and expectations of each group. This can include personalized recommendations and communication.\n",
    "\n",
    "Inventory Management: Optimize your inventory based on the spending behavior of each group. Ensure that you have sufficient stock of products that are in demand among your target audience.\n",
    "\n",
    "A/B Testing: Conduct A/B testing to experiment with different marketing messages, product placements, and pricing structures for both groups. Monitor the results to see which strategies yield the best outcomes.\n",
    "\n",
    "Customer Insights: Continuously gather and analyze customer data to gain deeper insights into the preferences and behaviors of each group. Use this information to refine your strategies over time.\n",
    "\n",
    "Customer Segmentation: Consider segmenting your customer base further based on additional characteristics, such as age, marital status, or location. This can help you create even more targeted marketing strategies.\n",
    "\n"
   ]
  },
  {
   "cell_type": "markdown",
   "id": "370645fd",
   "metadata": {},
   "source": [
    "## 2. Marital Status"
   ]
  },
  {
   "cell_type": "code",
   "execution_count": 34,
   "id": "d8fe5cc0",
   "metadata": {},
   "outputs": [
    {
     "name": "stdout",
     "output_type": "stream",
     "text": [
      "Sample Mean for expenditure based on marital status\n"
     ]
    },
    {
     "data": {
      "image/png": "[encoded data removed]",
      "text/plain": [
       "<Figure size 432x432 with 1 Axes>"
      ]
     },
     "metadata": {
      "needs_background": "light"
     },
     "output_type": "display_data"
    }
   ],
   "source": [
    "# 1 . Sample Mean for expenditure based on marital status\n",
    "\n",
    "print(\"Sample Mean for expenditure based on marital status\")\n",
    "mean_df = pd.DataFrame(retail_df.groupby(\"Marital_Status\")[\"Purchase\"].mean().round(0)).reset_index()\n",
    "\n",
    "#print(mean_df)\n",
    "\n",
    "plt.figure(figsize=(6, 6))\n",
    "mean_pur = sns.barplot(data=mean_df,\n",
    "                       x=\"Marital_Status\",\n",
    "                       y=\"Purchase\",\n",
    "                      )\n",
    "\n",
    "# Add bar labels (rounded mean values) to the bars\n",
    "for p in mean_pur.containers:\n",
    "    mean_pur.bar_label(p, label_type='edge', fontsize=12)"
   ]
  },
  {
   "cell_type": "code",
   "execution_count": 35,
   "id": "9d245648",
   "metadata": {},
   "outputs": [
    {
     "name": "stdout",
     "output_type": "stream",
     "text": [
      "Sample Mean for expenditure based on marital status\n"
     ]
    },
    {
     "data": {
      "image/png": "[encoded data removed]",
      "text/plain": [
       "<Figure size 432x432 with 1 Axes>"
      ]
     },
     "metadata": {
      "needs_background": "light"
     },
     "output_type": "display_data"
    }
   ],
   "source": [
    "print(\"Sample Mean for expenditure based on marital status\")\n",
    "\n",
    "plt.figure(figsize=(6, 6))\n",
    "mean_pur = sns.boxplot(data = retail_df,\n",
    "                       x= \"Marital_Status\",\n",
    "                       y= \"Purchase\",\n",
    "                      showmeans = True)\n",
    "plt.show()"
   ]
  },
  {
   "cell_type": "markdown",
   "id": "213c9f60",
   "metadata": {},
   "source": [
    "## ** Bootstrapping**"
   ]
  },
  {
   "cell_type": "markdown",
   "id": "a95d38db",
   "metadata": {},
   "source": [
    "#### Creating sampling distribution using Bootstrapped mean constructing confidence interval"
   ]
  },
  {
   "cell_type": "code",
   "execution_count": 36,
   "id": "ea30c381",
   "metadata": {},
   "outputs": [
    {
     "name": "stdout",
     "output_type": "stream",
     "text": [
      "The distribution of mean value of amount spent by Not_married per transaction for 1000 survey for entire dataset\n"
     ]
    },
    {
     "data": {
      "image/png": "[encoded data removed]",
      "text/plain": [
       "<Figure size 432x288 with 1 Axes>"
      ]
     },
     "metadata": {
      "needs_background": "light"
     },
     "output_type": "display_data"
    },
    {
     "name": "stdout",
     "output_type": "stream",
     "text": [
      "95% Confidence interval for amount spent by Not_married per transaction\n",
      "[9251.92 9285.8 ]\n",
      "\n",
      "The distribution of mean value of amount spent by Maried per transaction for 1000 survey for entire dataset\n"
     ]
    },
    {
     "data": {
      "image/png": "[encoded data removed]",
      "text/plain": [
       "<Figure size 432x288 with 1 Axes>"
      ]
     },
     "metadata": {
      "needs_background": "light"
     },
     "output_type": "display_data"
    },
    {
     "name": "stdout",
     "output_type": "stream",
     "text": [
      "95% Confidence interval for amount spent by Maried per transaction\n",
      "[9243.14 9279.38]\n",
      "\n"
     ]
    }
   ],
   "source": [
    "# Bootstrap sampling\n",
    "\n",
    "# Number of bootstrap iterations\n",
    "n_iterations = 150\n",
    "\n",
    "# List to store bootstrapped means\n",
    "bootstrapped_mean_survey = []  # it will nested list which will contain one list of mean for male and female\n",
    "\n",
    "mar_uni_value = retail_df[\"Marital_Status\"].unique() # marital status unique value\n",
    "for val in mar_uni_value:\n",
    "    \n",
    "    mar_mean_list = [] # gender wise mean list that will be appended to bootstrapped_mean_survey\n",
    "    \n",
    "    for samp in range(n_iterations):\n",
    "        \n",
    "        filter_df = retail_df[retail_df[\"Marital_Status\"] == val][\"Purchase\"]\n",
    "        \n",
    "        # Create a bootstrap sample of customers (with replacement)\n",
    "        random_sample = filter_df.sample(frac = 1, replace=True)\n",
    "    \n",
    "        # Calculate the sample mean for the current bootstrap sample\n",
    "        sample_mean = random_sample.mean()\n",
    "    \n",
    "        # Append the sample mean to the list of bootstrapped means\n",
    "        mar_mean_list.append(sample_mean)\n",
    "    \n",
    "    bootstrapped_mean_survey.append(mar_mean_list)\n",
    "    \n",
    "# Distribution of sample mean of 1000 survey using bootstrap and furnishing confidence interval    \n",
    "    \n",
    "# x for indexing\n",
    "x = 0\n",
    "for mar in mar_uni_value:  \n",
    "    \n",
    "    # Distribution of mean values for 1000 surveys\n",
    "    \n",
    "    print(f\"The distribution of mean value of amount spent by {mar} per transaction for 1000 survey for entire dataset\")\n",
    "    sns.histplot(x = bootstrapped_mean_survey[x])\n",
    "    plt.xlabel(f\"Sample mean for spending of {mar}\")\n",
    "    plt.show()\n",
    "    \n",
    "    # 95% confidence interval\n",
    "    \n",
    "    # Calculate the confidence interval (e.g., 95% confidence interval)\n",
    "    print(f\"95% Confidence interval for amount spent by {mar} per transaction\")\n",
    "    print(np.percentile(bootstrapped_mean_survey[x],[2.5, 97.5]).round(2))\n",
    "    print()\n",
    "    x+=1"
   ]
  },
  {
   "cell_type": "markdown",
   "id": "95ea44d6",
   "metadata": {},
   "source": [
    "## ** CENTRAL LIMIT THEOREM **"
   ]
  },
  {
   "cell_type": "code",
   "execution_count": 37,
   "id": "e843a4e0",
   "metadata": {},
   "outputs": [
    {
     "name": "stdout",
     "output_type": "stream",
     "text": [
      "Confidence Interval for Married Purchases: (9240.460315792989, 9281.888832371758)\n",
      "Confidence Interval for Not Married Purchases: (9248.616353737027, 9283.198884105987)\n"
     ]
    }
   ],
   "source": [
    "\n",
    "# Split data into married and not married samples\n",
    "sample_married = retail_df.loc[retail_df[\"Marital_Status\"] == \"Maried\"]\n",
    "sample_not_married = retail_df.loc[retail_df[\"Marital_Status\"] == \"Not_married\"]\n",
    "\n",
    "# Confidence level\n",
    "confidence_level = 0.95\n",
    "\n",
    "# Sample sizes\n",
    "sample_size_married = len(sample_married)\n",
    "sample_size_not_married = len(sample_not_married)\n",
    "\n",
    "# Sample means\n",
    "sample_mean_married = sample_married[\"Purchase\"].mean()\n",
    "sample_mean_not_married = sample_not_married[\"Purchase\"].mean()\n",
    "\n",
    "# Sample standard deviations (with Bessel's correction)\n",
    "sample_std_married = np.std(sample_married[\"Purchase\"], ddof=1)\n",
    "sample_std_not_married = np.std(sample_not_married[\"Purchase\"], ddof=1)\n",
    "\n",
    "# Degrees of freedom for t-distribution\n",
    "degree_of_freedom_married = sample_size_married - 1\n",
    "degree_of_freedom_not_married = sample_size_not_married - 1\n",
    "\n",
    "# Calculate the standard error of the mean\n",
    "standard_error_married = sample_std_married / np.sqrt(sample_size_married)\n",
    "standard_error_not_married = sample_std_not_married / np.sqrt(sample_size_not_married)\n",
    "\n",
    "# Calculate the t-scores for the given confidence level and degrees of freedom\n",
    "t_score_married = stats.t.ppf((1 + confidence_level) / 2, df=degree_of_freedom_married)\n",
    "t_score_not_married = stats.t.ppf((1 + confidence_level) / 2, df=degree_of_freedom_not_married)\n",
    "\n",
    "# Calculate the margin of error\n",
    "margin_of_error_married = t_score_married * standard_error_married\n",
    "margin_of_error_not_married = t_score_not_married * standard_error_not_married\n",
    "\n",
    "# Calculate the confidence intervals\n",
    "confidence_interval_married = (sample_mean_married - margin_of_error_married, sample_mean_married + margin_of_error_married)\n",
    "confidence_interval_not_married = (sample_mean_not_married - margin_of_error_not_married, sample_mean_not_married + margin_of_error_not_married)\n",
    "\n",
    "print(\"Confidence Interval for Married Purchases:\", confidence_interval_married)\n",
    "print(\"Confidence Interval for Not Married Purchases:\", confidence_interval_not_married)\n"
   ]
  },
  {
   "cell_type": "raw",
   "id": "4e0dcd19",
   "metadata": {},
   "source": [
    "Conclusion : \n",
    "\n",
    "95% Confidence interval for amount spent by Not_married per transaction\n",
    "[9251.16 9282.57]\n",
    "\n",
    "95% Confidence interval for amount spent by Maried per transaction\n",
    "[9240.36 9280.11]\n",
    "\n",
    "When we have two overlapping confidence intervals for the amount spent per transaction by married and unmarried, it suggests that there is no  statistically significant difference in the spending behavior between these married and unmarried. "
   ]
  },
  {
   "cell_type": "markdown",
   "id": "0d5dc596",
   "metadata": {},
   "source": [
    "## 3. Age"
   ]
  },
  {
   "cell_type": "code",
   "execution_count": 38,
   "id": "19947c50",
   "metadata": {},
   "outputs": [
    {
     "name": "stdout",
     "output_type": "stream",
     "text": [
      "Sample Mean for expenditure based on marital status\n"
     ]
    },
    {
     "data": {
      "image/png": "[encoded data removed]",
      "text/plain": [
       "<Figure size 432x432 with 1 Axes>"
      ]
     },
     "metadata": {
      "needs_background": "light"
     },
     "output_type": "display_data"
    }
   ],
   "source": [
    "# 1 . Sample Mean for expenditure based on marital status\n",
    "\n",
    "print(\"Sample Mean for expenditure based on marital status\")\n",
    "mean_df = pd.DataFrame(retail_df.groupby(\"Age\")[\"Purchase\"].mean().round(0)).reset_index()\n",
    "\n",
    "#print(mean_df)\n",
    "\n",
    "plt.figure(figsize=(6, 6))\n",
    "mean_pur = sns.barplot(data=mean_df,\n",
    "                       x=\"Age\",\n",
    "                       y=\"Purchase\",\n",
    "                      )\n",
    "\n",
    "# Add bar labels (rounded mean values) to the bars\n",
    "for p in mean_pur.containers:\n",
    "    mean_pur.bar_label(p, label_type='edge', fontsize=12)"
   ]
  },
  {
   "cell_type": "raw",
   "id": "b3208b55",
   "metadata": {},
   "source": [
    "Conclusion : \n",
    "People with age range in between 51-55 on an average is spending the most."
   ]
  },
  {
   "cell_type": "code",
   "execution_count": 39,
   "id": "80d3c684",
   "metadata": {},
   "outputs": [
    {
     "data": {
      "text/html": [
       "<div>\n",
       "<style scoped>\n",
       "    .dataframe tbody tr th:only-of-type {\n",
       "        vertical-align: middle;\n",
       "    }\n",
       "\n",
       "    .dataframe tbody tr th {\n",
       "        vertical-align: top;\n",
       "    }\n",
       "\n",
       "    .dataframe thead th {\n",
       "        text-align: right;\n",
       "    }\n",
       "</style>\n",
       "<table border=\"1\" class=\"dataframe\">\n",
       "  <thead>\n",
       "    <tr style=\"text-align: right;\">\n",
       "      <th></th>\n",
       "      <th>User_ID</th>\n",
       "      <th>Product_ID</th>\n",
       "      <th>Gender</th>\n",
       "      <th>Age</th>\n",
       "      <th>Occupation</th>\n",
       "      <th>City_Category</th>\n",
       "      <th>Stay_In_Current_City_Years</th>\n",
       "      <th>Marital_Status</th>\n",
       "      <th>Product_Category</th>\n",
       "      <th>Purchase</th>\n",
       "    </tr>\n",
       "  </thead>\n",
       "  <tbody>\n",
       "    <tr>\n",
       "      <th>0</th>\n",
       "      <td>1000001</td>\n",
       "      <td>P00069042</td>\n",
       "      <td>Female</td>\n",
       "      <td>0-17</td>\n",
       "      <td>10</td>\n",
       "      <td>A</td>\n",
       "      <td>2</td>\n",
       "      <td>Not_married</td>\n",
       "      <td>3</td>\n",
       "      <td>8370</td>\n",
       "    </tr>\n",
       "    <tr>\n",
       "      <th>1</th>\n",
       "      <td>1000001</td>\n",
       "      <td>P00248942</td>\n",
       "      <td>Female</td>\n",
       "      <td>0-17</td>\n",
       "      <td>10</td>\n",
       "      <td>A</td>\n",
       "      <td>2</td>\n",
       "      <td>Not_married</td>\n",
       "      <td>1</td>\n",
       "      <td>15200</td>\n",
       "    </tr>\n",
       "    <tr>\n",
       "      <th>2</th>\n",
       "      <td>1000001</td>\n",
       "      <td>P00087842</td>\n",
       "      <td>Female</td>\n",
       "      <td>0-17</td>\n",
       "      <td>10</td>\n",
       "      <td>A</td>\n",
       "      <td>2</td>\n",
       "      <td>Not_married</td>\n",
       "      <td>12</td>\n",
       "      <td>1422</td>\n",
       "    </tr>\n",
       "    <tr>\n",
       "      <th>3</th>\n",
       "      <td>1000001</td>\n",
       "      <td>P00085442</td>\n",
       "      <td>Female</td>\n",
       "      <td>0-17</td>\n",
       "      <td>10</td>\n",
       "      <td>A</td>\n",
       "      <td>2</td>\n",
       "      <td>Not_married</td>\n",
       "      <td>12</td>\n",
       "      <td>1057</td>\n",
       "    </tr>\n",
       "    <tr>\n",
       "      <th>4</th>\n",
       "      <td>1000002</td>\n",
       "      <td>P00285442</td>\n",
       "      <td>Male</td>\n",
       "      <td>55+</td>\n",
       "      <td>16</td>\n",
       "      <td>C</td>\n",
       "      <td>4+</td>\n",
       "      <td>Not_married</td>\n",
       "      <td>8</td>\n",
       "      <td>7969</td>\n",
       "    </tr>\n",
       "    <tr>\n",
       "      <th>5</th>\n",
       "      <td>1000003</td>\n",
       "      <td>P00193542</td>\n",
       "      <td>Male</td>\n",
       "      <td>26-35</td>\n",
       "      <td>15</td>\n",
       "      <td>A</td>\n",
       "      <td>3</td>\n",
       "      <td>Not_married</td>\n",
       "      <td>1</td>\n",
       "      <td>15227</td>\n",
       "    </tr>\n",
       "  </tbody>\n",
       "</table>\n",
       "</div>"
      ],
      "text/plain": [
       "   User_ID Product_ID  Gender    Age  Occupation City_Category  \\\n",
       "0  1000001  P00069042  Female   0-17          10             A   \n",
       "1  1000001  P00248942  Female   0-17          10             A   \n",
       "2  1000001  P00087842  Female   0-17          10             A   \n",
       "3  1000001  P00085442  Female   0-17          10             A   \n",
       "4  1000002  P00285442    Male    55+          16             C   \n",
       "5  1000003  P00193542    Male  26-35          15             A   \n",
       "\n",
       "  Stay_In_Current_City_Years Marital_Status  Product_Category  Purchase  \n",
       "0                          2    Not_married                 3      8370  \n",
       "1                          2    Not_married                 1     15200  \n",
       "2                          2    Not_married                12      1422  \n",
       "3                          2    Not_married                12      1057  \n",
       "4                         4+    Not_married                 8      7969  \n",
       "5                          3    Not_married                 1     15227  "
      ]
     },
     "execution_count": 39,
     "metadata": {},
     "output_type": "execute_result"
    }
   ],
   "source": [
    "retail_df.head(6)"
   ]
  },
  {
   "cell_type": "markdown",
   "id": "5d99bcce",
   "metadata": {},
   "source": [
    "# Final Insights"
   ]
  },
  {
   "cell_type": "markdown",
   "id": "b7a3cae2",
   "metadata": {},
   "source": [
    "#### From confidence interval \n"
   ]
  },
  {
   "cell_type": "raw",
   "id": "03147e81",
   "metadata": {},
   "source": [
    "#1 - > From confidence interval \n",
    "\n",
    "Observation from CLT and confidence interval : \n",
    "\n",
    "1 . Spending pattern on the basis of gender.\n",
    "\n",
    "Male spending more money per transaction than female.\n",
    "\n",
    "95% Confidence interval for amount spent by Female per transaction\n",
    "[8708.53 8758.43]\n",
    "\n",
    "95% Confidence interval for amount spent by Male per transaction\n",
    "[9422.16 9452.83]\n",
    "\n",
    "Difference statistically significant as the confidence interval not overlapping.\n",
    "\n",
    "\n",
    "2 . Spending pattern on the basis of marital_status.\n",
    "\n",
    "95% Confidence interval for amount spent by Not_married per transaction\n",
    "[9251.16 9282.57]\n",
    "\n",
    "95% Confidence interval for amount spent by Maried per transaction\n",
    "[9240.36 9280.11]\n",
    "\n",
    "As interval overlap with each other Difference is not statistically significant.\n"
   ]
  },
  {
   "cell_type": "markdown",
   "id": "e7bdad6b",
   "metadata": {},
   "source": [
    "#### From univariate and bivariate analysis"
   ]
  },
  {
   "cell_type": "raw",
   "id": "1b7bb95b",
   "metadata": {},
   "source": [
    "Observation from univariate analysis :\n",
    "    \n",
    "1- Top 3 user id that purchased the most : on the basis of freuency of purchase\n",
    "   User_id\n",
    "   1001680    1026\n",
    "   1004277     979\n",
    "   1001941     898\n",
    "\n",
    "2- Top 3 user id that purchased the most : no the basis of total purchase\n",
    "   User_ID\n",
    "   1004277    10536909\n",
    "   1001680     8699596\n",
    "   1002909     7577756\n",
    "\n",
    "3. Male are spending more in comparision with female\n",
    "\n",
    "4. People who have just shifted or stayed less than or equal to a year has purchased the most.\n",
    "\n",
    "5. People with age range in between 26-35 is purchasing most frequently.\n",
    "\n",
    "6. Occupation 0, 4, 7 : Frequency of purchasing for these occupation is most.\n",
    "\n",
    "7. People who stayed in City category B have high frquency of purchasing.\n",
    "..................................................................................\n",
    "\n",
    "Observation from bivariate analysis :\n",
    "\n",
    "1. Male are spending more in comparision with female\n",
    "\n",
    "2. People in age range between 50-55 on an average has highest expenditure.\n",
    "\n",
    "3. People with occupation 12,15,17 on average is spending the most\n",
    "\n",
    "4. There is marginal difference : We have to check for confidence interval for purchase vs marital_status\n",
    "\n",
    "5. People who stayed for 2 years have been purchasing the most\n",
    "\n",
    "6. People staying in City Category C on an average spends more.\n"
   ]
  },
  {
   "cell_type": "markdown",
   "id": "93ed7fa8",
   "metadata": {},
   "source": [
    "#### Comments on different variables when generalizing it for Population"
   ]
  },
  {
   "cell_type": "raw",
   "id": "32398797",
   "metadata": {},
   "source": [
    "1. Spending Pattern on the Basis of Gender:\n",
    "\n",
    "Generalization: The analysis indicates that, on average, males spend more per transaction than females.\n",
    "\n",
    "Comments: This gender-based spending difference can be generalized to the broader population. It suggests that there might be gender-related shopping preferences or purchasing power differences that company can consider when designing marketing strategies.\n",
    "\n",
    "2. Spending Pattern on the Basis of Marital Status:\n",
    "\n",
    "Generalization: The confidence intervals for married and unmarried individuals overlap, indicating no statistically significant difference in spending.\n",
    "\n",
    "Comments: The lack of a significant difference in spending based on marital status can be generalized to the broader population. Marital status alone may not be a strong predictor of spending habits.\n",
    "\n",
    "3. Univariate Analysis:\n",
    "\n",
    "Generalization: The top user IDs based on frequency and total purchase can provide insights into Walmart's most valuable customers.\n",
    "\n",
    "Comments: While these insights are helpful for identifying high-value customers, they should be validated with a larger population dataset to ensure that these trends hold true for the entire customer base.\n",
    "\n",
    "4. Age and Occupation Analysis:\n",
    "\n",
    "Generalization: People in certain age groups and occupations exhibit distinct purchasing behaviors.\n",
    "\n",
    "Comments: These insights can be generalized with caution, as age and occupation are known to influence spending patterns. However, population-level data would provide more robust insights into how these factors affect spending.\n",
    "\n",
    "5. Stay Duration and City Category Analysis:\n",
    "\n",
    "Generalization: Customers who have stayed for a shorter duration and those in certain city categories tend to spend more.\n",
    "\n",
    "Comments: These insights can be generalized to a broader population if the dataset represents a diverse customer base. It may suggest that newcomers or those in specific city categories have higher initial spending.\n",
    "\n",
    "6. Bivariate Analysis:\n",
    "\n",
    "Generalization: Males spend more on average, and there are differences in spending based on age, occupation, stay duration, and city category.\n",
    "\n",
    "Comments: These bivariate insights can be generalized, but it's important to consider that multiple factors can interact to influence spending. Population-level analysis would provide a more comprehensive understanding of these interactions."
   ]
  },
  {
   "cell_type": "markdown",
   "id": "21d2548e",
   "metadata": {},
   "source": [
    "## Recommendations"
   ]
  },
  {
   "cell_type": "raw",
   "id": "771075ee",
   "metadata": {},
   "source": [
    "Based on the analysis and insights obtained from the data, here are some recommendations for company to consider:\n",
    "\n",
    "1. Targeted Gender-Based Marketing:\n",
    "\n",
    "As males tend to spend more on average, Walmart can create targeted marketing campaigns and promotions tailored to male shoppers' preferences to maximize sales.\n",
    "\n",
    "2. Customer Loyalty Programs:\n",
    "\n",
    "Identify and reward high-frequency and high-value customers (e.g., top user IDs) with personalized offers and loyalty programs to encourage repeat business.\n",
    "\n",
    "3. New Customer Onboarding:\n",
    "\n",
    "Recognize that customers who have recently moved to a city or stayed for a shorter duration tend to spend more initially. Develop strategies to engage and retain these newcomers.\n",
    "\n",
    "4. Age-Based Promotions:\n",
    "\n",
    "Consider age-specific promotions and product recommendations, as customers in the 26-35 age group appear to be frequent shoppers.\n",
    "\n",
    "5. Occupation-Based Offers:\n",
    "\n",
    "Tailor product offerings and discounts to match the preferences of customers in high-frequency occupation categories (e.g., occupations 0, 4, 7).\n",
    "\n",
    "6. Regional Marketing Strategies:\n",
    "\n",
    "Customize marketing efforts based on city categories (e.g., City Category C) where customers tend to spend more. Understand local preferences and adapt store offerings accordingly.\n",
    "\n",
    "7. Investigate Marital Status Impact:\n",
    "\n",
    "While no significant difference was found between married and unmarried customers, further analysis with a larger dataset may reveal nuanced spending behaviors. Continue monitoring this variable.\n",
    "\n",
    "8. Customer Retention Strategies:\n",
    "\n",
    "Implement customer retention strategies to encourage customers to stay with company for longer periods, as long-term customers are valuable.\n",
    "\n",
    "9. Product Category Focus:\n",
    "\n",
    "Identify and promote product categories that are popular among different customer segments to maximize sales in those areas.\n",
    "\n",
    "10. Monitor and Adapt:\n",
    "\n",
    "Continuously monitor customer behavior, especially during Black Friday and other peak shopping seasons, to identify changing trends and adapt marketing and sales strategies accordingly."
   ]
  },
  {
   "cell_type": "code",
   "execution_count": null,
   "id": "5f3af97a",
   "metadata": {},
   "outputs": [],
   "source": []
  },
  {
   "cell_type": "code",
   "execution_count": null,
   "id": "1de7f573",
   "metadata": {},
   "outputs": [],
   "source": []
  },
  {
   "cell_type": "code",
   "execution_count": null,
   "id": "5ca97876",
   "metadata": {},
   "outputs": [],
   "source": []
  }
 ],
 "metadata": {
  "kernelspec": {
   "display_name": "Python 3 (ipykernel)",
   "language": "python",
   "name": "python3"
  },
  "language_info": {
   "codemirror_mode": {
    "name": "ipython",
    "version": 3
   },
   "file_extension": ".py",
   "mimetype": "text/x-python",
   "name": "python",
   "nbconvert_exporter": "python",
   "pygments_lexer": "ipython3",
   "version": "3.9.12"
  }
 },
 "nbformat": 4,
 "nbformat_minor": 5
}
